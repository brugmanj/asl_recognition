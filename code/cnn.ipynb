{
 "cells": [
  {
   "cell_type": "code",
   "execution_count": 62,
   "metadata": {},
   "outputs": [],
   "source": [
    "import pandas as pd\n",
    "import numpy as np\n",
    "import cv2\n",
    "import matplotlib.pyplot as plt\n",
    "import os\n",
    "from sklearn.model_selection import train_test_split\n",
    "\n",
    "from tensorflow.keras.models import Sequential, load_model\n",
    "from tensorflow.keras.layers import Dense, Dropout, Flatten, Conv2D, MaxPooling2D\n",
    "from tensorflow.keras import utils\n",
    "\n",
    "np.random.seed(12)"
   ]
  },
  {
   "cell_type": "markdown",
   "metadata": {},
   "source": [
    "## Data Importing"
   ]
  },
  {
   "cell_type": "code",
   "execution_count": 19,
   "metadata": {},
   "outputs": [],
   "source": [
    "# Reads the image as an array\n",
    "image_read = lambda file: cv2.imread(file, 0)"
   ]
  },
  {
   "cell_type": "code",
   "execution_count": 20,
   "metadata": {},
   "outputs": [],
   "source": [
    "# filepaths for pictures:\n",
    "path_test = '../data/asl_alphabet_test/'\n",
    "path_train = '../data/asl_alphabet_train/'"
   ]
  },
  {
   "cell_type": "markdown",
   "metadata": {},
   "source": [
    "### Creating the training set"
   ]
  },
  {
   "cell_type": "code",
   "execution_count": 21,
   "metadata": {
    "scrolled": true
   },
   "outputs": [],
   "source": [
    "X_train = []\n",
    "y_train = []\n",
    "\n",
    "letters = os.listdir(path_train)\n",
    "\n",
    "# Loops for making X_train and y_train\n",
    "for letter in letters:\n",
    "    path = path_train + letter + '/'\n",
    "    pics = os.listdir(path)\n",
    "        \n",
    "    for pic in pics:\n",
    "        img_path = path + pic\n",
    "        image = image_read(img_path)\n",
    "        image = image / 255\n",
    "        X_train.append(image)\n",
    "        y_train.append(letter)"
   ]
  },
  {
   "cell_type": "code",
   "execution_count": 22,
   "metadata": {},
   "outputs": [],
   "source": [
    "# Replacing the numbers with numeric values\n",
    "y_train = [ord(x)%32-1 if x in 'ABCDEFGHIJKLMNOPQRSTUVWXYZ' else x for x in y_train]\n",
    "\n",
    "# replacing the workds with numeric values\n",
    "subs = {'del' : 26, 'nothing' : 27, 'space': 28}\n",
    "\n",
    "y_train = [subs.get(item, item) for item in y_train]\n",
    "\n",
    "# Changing to categorical Values\n",
    "y_train = utils.to_categorical(y_train, 29)"
   ]
  },
  {
   "cell_type": "code",
   "execution_count": 27,
   "metadata": {},
   "outputs": [],
   "source": [
    "X_train = np.array(X_train)"
   ]
  },
  {
   "cell_type": "markdown",
   "metadata": {},
   "source": [
    "### Creating the test set"
   ]
  },
  {
   "cell_type": "code",
   "execution_count": 29,
   "metadata": {},
   "outputs": [],
   "source": [
    "X_test = []\n",
    "y_test = []\n",
    "\n",
    "test_path = '../data/asl_alphabet_test/'\n",
    "\n",
    "test_photos = os.listdir(test_path)\n",
    "\n",
    "for photo in test_photos:\n",
    "    path = test_path + photo\n",
    "    image = image_read(path)\n",
    "    image = image / 255\n",
    "    X_test.append(image)\n",
    "    y_test.append(photo[:-9])"
   ]
  },
  {
   "cell_type": "code",
   "execution_count": 30,
   "metadata": {},
   "outputs": [],
   "source": [
    "# Replacing the numbers with numeric values\n",
    "y_test = [ord(x)%32-1 if x in 'ABCDEFGHIJKLMNOPQRSTUVWXYZ' else x for x in y_test]\n",
    "\n",
    "# replacing the workds with numeric values\n",
    "subs = {'del' : 26, 'nothing' : 27, 'space': 28}\n",
    "\n",
    "y_test = [subs.get(item, item) for item in y_test]\n",
    "\n",
    "# Changing to categorical Values\n",
    "y_test = utils.to_categorical(y_test, 29)"
   ]
  },
  {
   "cell_type": "code",
   "execution_count": 41,
   "metadata": {},
   "outputs": [],
   "source": [
    "X_test = np.array(X_test)"
   ]
  },
  {
   "cell_type": "markdown",
   "metadata": {},
   "source": [
    "## CNN"
   ]
  },
  {
   "cell_type": "code",
   "execution_count": 49,
   "metadata": {},
   "outputs": [],
   "source": [
    "X_train = X_train.reshape(X_train.shape[0], 200, 200, 1)\n",
    "X_test = X_test.reshape(X_test.shape[0], 200, 200, 1)"
   ]
  },
  {
   "cell_type": "code",
   "execution_count": 50,
   "metadata": {},
   "outputs": [],
   "source": [
    "cnn_model = Sequential()"
   ]
  },
  {
   "cell_type": "code",
   "execution_count": 51,
   "metadata": {},
   "outputs": [],
   "source": [
    "# Convolutional Layer\n",
    "cnn_model.add(Conv2D(filters = 6,\n",
    "                    kernel_size = (3, 3),\n",
    "                    activation = 'relu',\n",
    "                    input_shape = (200, 200, 1)))"
   ]
  },
  {
   "cell_type": "code",
   "execution_count": 52,
   "metadata": {},
   "outputs": [],
   "source": [
    "cnn_model.add(MaxPooling2D(pool_size = (2,2)))"
   ]
  },
  {
   "cell_type": "code",
   "execution_count": 53,
   "metadata": {},
   "outputs": [],
   "source": [
    "cnn_model.add(Conv2D(16, \n",
    "                     kernel_size = (3,3),\n",
    "                     activation = 'relu'))"
   ]
  },
  {
   "cell_type": "code",
   "execution_count": 54,
   "metadata": {},
   "outputs": [],
   "source": [
    "cnn_model.add(MaxPooling2D(pool_size = (2,2)))"
   ]
  },
  {
   "cell_type": "code",
   "execution_count": 55,
   "metadata": {},
   "outputs": [],
   "source": [
    "cnn_model.add(Flatten())"
   ]
  },
  {
   "cell_type": "code",
   "execution_count": 56,
   "metadata": {},
   "outputs": [],
   "source": [
    "cnn_model.add(Dense(128, activation = 'relu'))\n",
    "\n",
    "cnn_model.add(Dense(29, activation = 'softmax'))"
   ]
  },
  {
   "cell_type": "code",
   "execution_count": 57,
   "metadata": {},
   "outputs": [],
   "source": [
    "cnn_model.compile(loss='categorical_crossentropy',\n",
    "                  optimizer='adam',\n",
    "                  metrics=['accuracy'])"
   ]
  },
  {
   "cell_type": "code",
   "execution_count": 59,
   "metadata": {},
   "outputs": [
    {
     "name": "stdout",
     "output_type": "stream",
     "text": [
      "Train on 87000 samples, validate on 28 samples\n",
      "Epoch 1/3\n",
      "87000/87000 [==============================] - 653s 8ms/sample - loss: 1.4657 - acc: 0.5700 - val_loss: 0.2562 - val_acc: 0.8571\n",
      "Epoch 2/3\n",
      "87000/87000 [==============================] - 699s 8ms/sample - loss: 0.3961 - acc: 0.8844 - val_loss: 0.1029 - val_acc: 0.9643\n",
      "Epoch 3/3\n",
      "87000/87000 [==============================] - 684s 8ms/sample - loss: 0.1833 - acc: 0.9491 - val_loss: 0.0431 - val_acc: 1.0000\n"
     ]
    }
   ],
   "source": [
    "history = cnn_model.fit(X_train,\n",
    "                        y_train,\n",
    "                        batch_size=128,\n",
    "                        validation_data=(X_test, y_test),\n",
    "                        epochs=3,\n",
    "                        verbose=1)"
   ]
  },
  {
   "cell_type": "markdown",
   "metadata": {},
   "source": [
    "#### Saving CNN Model"
   ]
  },
  {
   "cell_type": "code",
   "execution_count": 60,
   "metadata": {},
   "outputs": [],
   "source": [
    "cnn_model.save('model1.h5')"
   ]
  },
  {
   "cell_type": "code",
   "execution_count": 61,
   "metadata": {},
   "outputs": [
    {
     "data": {
      "image/png": "[encoded data removed]",
      "text/plain": [
       "<Figure size 864x576 with 1 Axes>"
      ]
     },
     "metadata": {
      "needs_background": "light"
     },
     "output_type": "display_data"
    }
   ],
   "source": [
    "# Check out our train loss and test loss over epochs.\n",
    "train_loss = history.history['loss']\n",
    "test_loss = history.history['val_loss']\n",
    "\n",
    "# Set figure size.\n",
    "plt.figure(figsize=(12, 8))\n",
    "\n",
    "# Generate line plot of training, testing loss over epochs.\n",
    "plt.plot(train_loss, label='Training Loss', color='#185fad')\n",
    "plt.plot(test_loss, label='Testing Loss', color='orange')\n",
    "\n",
    "# Set title\n",
    "plt.title('Training and Testing Loss by Epoch', fontsize = 25)\n",
    "plt.xlabel('Epoch', fontsize = 18)\n",
    "plt.ylabel('Categorical Crossentropy', fontsize = 18)\n",
    "plt.xticks(np.arange(10), np.arange(10))\n",
    "\n",
    "plt.legend(fontsize = 18);"
   ]
  },
  {
   "cell_type": "code",
   "execution_count": null,
   "metadata": {},
   "outputs": [],
   "source": []
  }
 ],
 "metadata": {
  "kernelspec": {
   "display_name": "Python 3",
   "language": "python",
   "name": "python3"
  },
  "language_info": {
   "codemirror_mode": {
    "name": "ipython",
    "version": 3
   },
   "file_extension": ".py",
   "mimetype": "text/x-python",
   "name": "python",
   "nbconvert_exporter": "python",
   "pygments_lexer": "ipython3",
   "version": "3.7.6"
  }
 },
 "nbformat": 4,
 "nbformat_minor": 4
}
